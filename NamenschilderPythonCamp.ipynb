{
 "cells": [
  {
   "cell_type": "code",
   "execution_count": 1,
   "metadata": {},
   "outputs": [],
   "source": [
    "#!/usr/bin/env python\n",
    "\n",
    "import os\n",
    "import sys\n",
    "import pandas as pd"
   ]
  },
  {
   "cell_type": "markdown",
   "metadata": {},
   "source": [
    "# Input Data"
   ]
  },
  {
   "cell_type": "code",
   "execution_count": 2,
   "metadata": {},
   "outputs": [],
   "source": [
    "# # *.svg Template Daten\n",
    "TEMPLATE = 'Namensschilder_PythonCamp (87x53).svg'\n",
    "PATTERN_VORNAME = 'firstname'\n",
    "PATTERN_NACHNAME = 'lastname'\n",
    "PATTERN_ORGA = \"orga\"\n",
    "\n",
    "# # csv eingabe datei\n",
    "datei_userdaten = r\"23-05-30-pyr2023-participants.xls\"\n",
    "datei_userdaten = r\"Demo_data.xls\"\n",
    "\n",
    "# datei_userdaten = r\"23-06-02-pyr2023-participants.xls\"\n",
    "\n",
    "# # Ausgabe Ordner\n",
    "folderName = \"output\""
   ]
  },
  {
   "cell_type": "markdown",
   "metadata": {},
   "source": [
    "## Functions"
   ]
  },
  {
   "cell_type": "code",
   "execution_count": 3,
   "metadata": {},
   "outputs": [],
   "source": [
    "def load_template():\n",
    "    f = open(TEMPLATE, 'r')\n",
    "    template = f.read()\n",
    "    f.close()\n",
    "    return template\n",
    "\n",
    "def save_output(data, num, folderName = \"output\"):\n",
    "    print(f\"save: {num}\")\n",
    "    if not os.path.isdir(folderName):\n",
    "        os.mkdir(folderName)\n",
    "    with open(folderName + os.path.sep + 'n_%d.svg' % num, 'w') as f:\n",
    "        f.write(data)\n",
    "\n",
    "def main(df, enable_clear_template = True):\n",
    "\n",
    "    current = template = load_template()\n",
    "    num = 1\n",
    "    for index, row in df.iterrows():\n",
    "        firstname = str(row['firstname'])\n",
    "        lastname = str(row['lastname'])\n",
    "        orga = str(row['orga'])\n",
    "        # print(f\"lastname: {lastname}, firstname {firstname}, orga '{orga}'\" )\n",
    "        print(f\"{lastname}, {firstname}, '{orga}'\" )\n",
    "        # print(f\"lastname: {PATTERN_VORNAME}, firstname {PATTERN_NACHNAME}, orga '{PATTERN_ORGA}'\" )\n",
    "        \n",
    "        if (not PATTERN_NACHNAME in current) and (not PATTERN_VORNAME in current):\n",
    "            save_output(current, index+1)\n",
    "            num += 1\n",
    "            current = template\n",
    "        \n",
    "        current = current.replace(PATTERN_VORNAME, firstname, 1)\n",
    "        current = current.replace(PATTERN_NACHNAME, lastname, 1)\n",
    "        current = current.replace(PATTERN_ORGA, orga, 1)\n",
    "        # print(firstname, lastname, orga)\n",
    "    \n",
    "    if enable_clear_template:\n",
    "        clear_template = True\n",
    "        while clear_template:\n",
    "            if (PATTERN_NACHNAME in current) and (PATTERN_VORNAME in current):\n",
    "                firstname = \" \"\n",
    "                lastname = \" \"\n",
    "                orga = \" \"\n",
    "                current = current.replace(PATTERN_VORNAME, firstname, 1)\n",
    "                current = current.replace(PATTERN_NACHNAME, lastname, 1)\n",
    "                current = current.replace(PATTERN_ORGA, orga, 1)\n",
    "            if (not PATTERN_NACHNAME in current) and (not PATTERN_VORNAME in current):\n",
    "                clear_template = False\n",
    "                break\n",
    "    \n",
    "    save_output(current, index+1+num)\n",
    "    \n",
    "def check_create_folder(folderName):\n",
    "    if not os.path.exists(os.getcwd() + os.path.sep + folderName):\n",
    "        os.makedirs(os.getcwd() + os.path.sep + folderName, exist_ok=True)\n",
    "\n",
    "def convert_svg_to_csv(folder, filename):\n",
    "    drawing = svg2rlg(folder + os.path.sep + filename)\n",
    "    base = os.path.splitext(filename)[0]\n",
    "    renderPDF.drawToFile(drawing, folder + os.path.sep + base + \".pdf\")\n",
    "\n",
    "def read_BarCamp_data_csv(datei_userdaten):\n",
    "    df = pd.read_csv(datei_userdaten, sep=\";\", encoding='utf-8')\n",
    "    df = df[(df[['Status']] != \"canceled\").all(axis=1)]\n",
    "    df.reset_index(drop=True, inplace=True)\n",
    "    for index, row in df.iterrows():\n",
    "        name = row[\"Name\"].strip().split(\" \")\n",
    "        firstname = name[0]\n",
    "        lastname = \" \".join(name[1:])\n",
    "        df.loc[df.index[index], 'firstname'] = firstname\n",
    "        df.loc[df.index[index], 'lastname'] = lastname\n",
    "        # print(index, name,  firstname,\": \", lastname)\n",
    "    for index, row in df.iterrows():\n",
    "        ticket = row[\"Ticket\"]\n",
    "        if \"Organisationsmitglied\" in ticket:\n",
    "            df.loc[df.index[index], 'orga'] = \"Orga\"\n",
    "            # print(index, row[\"Name\"], ticket)\n",
    "        else:\n",
    "            df.loc[df.index[index], 'orga'] = \" \"\n",
    "            # print(index, row[\"Name\"], \" \")\n",
    "    return df\n",
    "\n",
    "def read_BarCamp_data_excel(datei_userdaten):\n",
    "    df = pd.read_excel(datei_userdaten)\n",
    "    df = df[(df[['Status']] != \"canceled\").all(axis=1)]\n",
    "    df.reset_index(drop=True, inplace=True)\n",
    "    for index, row in df.iterrows():\n",
    "        name = row[\"Name\"].strip().split(\" \")\n",
    "        firstname = name[0]\n",
    "        lastname = \" \".join(name[1:])\n",
    "        df.loc[df.index[index], 'firstname'] = firstname\n",
    "        df.loc[df.index[index], 'lastname'] = lastname\n",
    "        # print(index, name,  firstname,\": \", lastname)\n",
    "    for index, row in df.iterrows():\n",
    "        ticket = row[\"Ticket\"]\n",
    "        if \"Organisationsmitglied\" in ticket:\n",
    "            df.loc[df.index[index], 'orga'] = \"Orga\"\n",
    "            # print(index, row[\"Name\"], ticket)\n",
    "        else:\n",
    "            df.loc[df.index[index], 'orga'] = \" \"\n",
    "            # print(index, row[\"Name\"], \" \")\n",
    "    return df"
   ]
  },
  {
   "cell_type": "markdown",
   "metadata": {},
   "source": [
    "#### Create Output folder if not exist"
   ]
  },
  {
   "cell_type": "code",
   "execution_count": 4,
   "metadata": {},
   "outputs": [],
   "source": [
    "check_create_folder(folderName)"
   ]
  },
  {
   "cell_type": "markdown",
   "metadata": {},
   "source": [
    "## Write data to output"
   ]
  },
  {
   "cell_type": "code",
   "execution_count": 23,
   "metadata": {},
   "outputs": [
    {
     "name": "stdout",
     "output_type": "stream",
     "text": [
      "Musterfrau, Claudia, ' '\n",
      "Musterfrau, Claudia, 'Orga'\n",
      "Mustermann, Maximilian, 'Orga'\n",
      "Mustermann, Maximilian, ' '\n",
      "Musterfrau, Claudia, ' '\n",
      "Musterfrau, Claudia, ' '\n",
      "Mustermann, Maximilian, ' '\n",
      "Musterfrau, Claudia, ' '\n",
      "Mustermann, Maximilian, ' '\n",
      "Mustermann, Maximilian, ' '\n",
      "Musterfrau, Claudia, ' '\n",
      "save: 11\n",
      "Mustermann, Maximilian, ' '\n",
      "Mustermann, Maximilian, ' '\n",
      "Musterfrau, Claudia, ' '\n",
      "Musterfrau, Claudia, ' '\n",
      "Mustermann, Maximilian, ' '\n",
      "Mustermann, Maximilian, ' '\n",
      "save: 19\n"
     ]
    }
   ],
   "source": [
    "# df = read_BarCamp_data_csv(datei_userdaten)\n",
    "df = read_BarCamp_data_excel(datei_userdaten)\n",
    "main(df)"
   ]
  },
  {
   "cell_type": "markdown",
   "metadata": {},
   "source": [
    "# Convert svg to pdf"
   ]
  },
  {
   "cell_type": "code",
   "execution_count": 24,
   "metadata": {},
   "outputs": [],
   "source": [
    "from svglib.svglib import svg2rlg\n",
    "from reportlab.graphics import renderPDF"
   ]
  },
  {
   "cell_type": "code",
   "execution_count": 25,
   "metadata": {},
   "outputs": [
    {
     "name": "stdout",
     "output_type": "stream",
     "text": [
      "search in: /home/sekhet/work/Python/namensschilder_GitHub/output\n"
     ]
    },
    {
     "data": {
      "text/plain": [
       "['n_11.svg', 'n_19.svg']"
      ]
     },
     "execution_count": 25,
     "metadata": {},
     "output_type": "execute_result"
    }
   ],
   "source": [
    "path_of_the_directory = os.getcwd() + os.path.sep + folderName\n",
    "print(\"search in: {}\".format(path_of_the_directory))\n",
    "ext = ('.svg')\n",
    "filenames = []\n",
    "for files in os.listdir(path_of_the_directory):\n",
    "    if files.endswith(ext):\n",
    "#         print(files)  \n",
    "        filenames.append(files)\n",
    "    else:\n",
    "        continue\n",
    "filenames"
   ]
  },
  {
   "cell_type": "code",
   "execution_count": 26,
   "metadata": {},
   "outputs": [
    {
     "name": "stdout",
     "output_type": "stream",
     "text": [
      "n_11.svg -> PDF\n",
      "n_19.svg -> PDF\n"
     ]
    }
   ],
   "source": [
    "for filename in filenames:\n",
    "    print(f\"{filename} -> PDF\")\n",
    "    convert_svg_to_csv(folderName, filename)\n"
   ]
  },
  {
   "cell_type": "markdown",
   "metadata": {},
   "source": [
    "# Show All PDFs"
   ]
  },
  {
   "cell_type": "code",
   "execution_count": 12,
   "metadata": {},
   "outputs": [],
   "source": [
    "import os\n",
    "\n",
    "def read_pdf_files_in_folder(PDFFolder, Extention = \".pdf\"):\n",
    "    '''\n",
    "    Funktion finded alle PDFs im Ordner \"PDFFolder\"\n",
    "    input: FolderName with pdf files\n",
    "    return PyPDF2.pdf.PdfFileReader\n",
    "    '''\n",
    "    PDFFileNameArray=[]\n",
    "    for filename in os.listdir(PDFFolder):\n",
    "        if filename.lower().endswith(Extention):\n",
    "            PDFFileNameArray.append(filename)\n",
    "        # print(\"filename: \", filename)\n",
    "    # print(PDFFileNameArray)\n",
    "    AllPDFNames=[]\n",
    "    for ActualPDFFileName in PDFFileNameArray:\n",
    "        AllPDFNames.append(PDFFolder + os.path.sep + ActualPDFFileName)\n",
    "        # print(PDFFolder + os.path.sep + ActualPDFFileName)\n",
    "    return AllPDFNames"
   ]
  },
  {
   "cell_type": "code",
   "execution_count": 13,
   "metadata": {},
   "outputs": [
    {
     "data": {
      "text/plain": [
       "['output/n_19.pdf', 'output/n_11.pdf']"
      ]
     },
     "execution_count": 13,
     "metadata": {},
     "output_type": "execute_result"
    }
   ],
   "source": [
    "read_pdf_files_in_folder(folderName)"
   ]
  },
  {
   "cell_type": "markdown",
   "metadata": {},
   "source": [
    "# Merge all PDFs"
   ]
  },
  {
   "cell_type": "code",
   "execution_count": 14,
   "metadata": {},
   "outputs": [],
   "source": [
    "PDFOutputName = \"Badges.pdf\""
   ]
  },
  {
   "cell_type": "code",
   "execution_count": 15,
   "metadata": {},
   "outputs": [],
   "source": [
    "def read_pdf_files_in_folder(PDFFolder, Extention = \".pdf\"):\n",
    "    '''\n",
    "    Funktion finded alle PDFs im Ordner \"PDFFolder\"\n",
    "    input: FolderName with pdf files\n",
    "    return PyPDF2.pdf.PdfFileReader\n",
    "    '''\n",
    "    PDFFileNameArray=[]\n",
    "    for filename in os.listdir(PDFFolder):\n",
    "        if filename.lower().endswith(Extention):\n",
    "            PDFFileNameArray.append(filename)\n",
    "        # print(\"filename: \", filename)\n",
    "    # print(PDFFileNameArray)\n",
    "    AllPDFNames=[]\n",
    "    for ActualPDFFileName in PDFFileNameArray:\n",
    "        AllPDFNames.append(PDFFolder + os.path.sep + ActualPDFFileName)\n",
    "        # print(PDFFolder + os.path.sep + ActualPDFFileName)\n",
    "    return AllPDFNames"
   ]
  },
  {
   "cell_type": "code",
   "execution_count": 16,
   "metadata": {},
   "outputs": [],
   "source": [
    "from PyPDF2 import PdfWriter\n",
    "\n",
    "AllPDFNames = read_pdf_files_in_folder(folderName)\n",
    "try:\n",
    "    merger = PdfWriter()\n",
    "    \n",
    "    for pdf in AllPDFNames:\n",
    "        merger.append(pdf)\n",
    "    \n",
    "    merger.write(PDFOutputName)\n",
    "except Exception as e:\n",
    "    print(e)\n",
    "finally:\n",
    "    merger.close()"
   ]
  },
  {
   "cell_type": "code",
   "execution_count": null,
   "metadata": {},
   "outputs": [],
   "source": []
  },
  {
   "cell_type": "code",
   "execution_count": null,
   "metadata": {},
   "outputs": [],
   "source": []
  },
  {
   "cell_type": "code",
   "execution_count": null,
   "metadata": {},
   "outputs": [],
   "source": []
  }
 ],
 "metadata": {
  "kernelspec": {
   "display_name": "Python 3 (ipykernel)",
   "language": "python",
   "name": "python3"
  },
  "language_info": {
   "codemirror_mode": {
    "name": "ipython",
    "version": 3
   },
   "file_extension": ".py",
   "mimetype": "text/x-python",
   "name": "python",
   "nbconvert_exporter": "python",
   "pygments_lexer": "ipython3",
   "version": "3.10.6"
  }
 },
 "nbformat": 4,
 "nbformat_minor": 4
}
