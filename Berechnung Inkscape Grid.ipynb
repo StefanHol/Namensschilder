{
 "cells": [
  {
   "cell_type": "markdown",
   "metadata": {},
   "source": [
    "# Inkscape Template mit Schnittmarken erstellen"
   ]
  },
  {
   "cell_type": "markdown",
   "metadata": {},
   "source": [
    " **Badge größe angeben**\n",
    " \n",
    "Diese wird auf in x und y auf dem Blatt verteilt"
   ]
  },
  {
   "cell_type": "code",
   "execution_count": null,
   "metadata": {},
   "outputs": [],
   "source": [
    "badge_width = 87\n",
    "bagde_height = 54"
   ]
  },
  {
   "cell_type": "code",
   "execution_count": null,
   "metadata": {},
   "outputs": [],
   "source": [
    "tamplate_dateiname = \"Template.svg\""
   ]
  },
  {
   "cell_type": "code",
   "execution_count": null,
   "metadata": {},
   "outputs": [],
   "source": [
    "# Ausgangsdatei (NA):\n",
    "# dateiname = \"Zeichnung.svg\"\n",
    "\n",
    "EmptyPage=\"\"\"<?xml version=\"1.0\" encoding=\"UTF-8\" standalone=\"no\"?>\n",
    "<!-- Created with Inkscape (http://www.inkscape.org/) -->\n",
    "\n",
    "<svg\n",
    "   width=\"210mm\"\n",
    "   height=\"297mm\"\n",
    "   viewBox=\"0 0 210 297\"\n",
    "   version=\"1.1\"\n",
    "   id=\"svg5\"\n",
    "   inkscape:version=\"1.2.2 (1:1.2.2+202212051552+b0a8486541)\"\n",
    "   sodipodi:docname=\"Zeichnung.svg\"\n",
    "   xmlns:inkscape=\"http://www.inkscape.org/namespaces/inkscape\"\n",
    "   xmlns:sodipodi=\"http://sodipodi.sourceforge.net/DTD/sodipodi-0.dtd\"\n",
    "   xmlns=\"http://www.w3.org/2000/svg\"\n",
    "   xmlns:svg=\"http://www.w3.org/2000/svg\">\n",
    "  <sodipodi:namedview\n",
    "     id=\"namedview7\"\n",
    "     pagecolor=\"#ffffff\"\n",
    "     bordercolor=\"#000000\"\n",
    "     borderopacity=\"0.25\"\n",
    "     inkscape:showpageshadow=\"2\"\n",
    "     inkscape:pageopacity=\"0.0\"\n",
    "     inkscape:pagecheckerboard=\"0\"\n",
    "     inkscape:deskcolor=\"#d1d1d1\"\n",
    "     inkscape:document-units=\"mm\"\n",
    "     showgrid=\"false\"\n",
    "     inkscape:zoom=\"0.99475561\"\n",
    "     inkscape:cx=\"429.25116\"\n",
    "     inkscape:cy=\"571.49715\"\n",
    "     inkscape:window-width=\"2560\"\n",
    "     inkscape:window-height=\"1489\"\n",
    "     inkscape:window-x=\"0\"\n",
    "     inkscape:window-y=\"0\"\n",
    "     inkscape:window-maximized=\"1\"\n",
    "     inkscape:current-layer=\"layer1\" />\n",
    "  <defs\n",
    "     id=\"defs2\" />\n",
    "  <g\n",
    "     inkscape:label=\"Ebene 1\"\n",
    "     inkscape:groupmode=\"layer\"\n",
    "     id=\"layer1\" />\n",
    "</svg>\n",
    "\"\"\""
   ]
  },
  {
   "cell_type": "markdown",
   "metadata": {},
   "source": [
    "**Papier größe muss zur Vorlage \"EmptyPage\" passen**"
   ]
  },
  {
   "cell_type": "code",
   "execution_count": null,
   "metadata": {},
   "outputs": [],
   "source": [
    "# A4\n",
    "paper_width = 210\n",
    "paper_height = 297"
   ]
  },
  {
   "cell_type": "code",
   "execution_count": null,
   "metadata": {},
   "outputs": [],
   "source": [
    "print(paper_width / badge_width)\n",
    "count_with = int(paper_width / badge_width)\n",
    "count_with"
   ]
  },
  {
   "cell_type": "code",
   "execution_count": null,
   "metadata": {},
   "outputs": [],
   "source": [
    "print(paper_height / bagde_height)\n",
    "count_height = int(paper_height / bagde_height)\n",
    "count_height"
   ]
  },
  {
   "cell_type": "code",
   "execution_count": null,
   "metadata": {},
   "outputs": [],
   "source": [
    "offset_width = (paper_width - count_with*badge_width)/2\n",
    "offset_width"
   ]
  },
  {
   "cell_type": "code",
   "execution_count": null,
   "metadata": {},
   "outputs": [],
   "source": [
    "offset_heigth = (paper_height - count_height*bagde_height)/2\n",
    "offset_heigth"
   ]
  },
  {
   "cell_type": "code",
   "execution_count": null,
   "metadata": {},
   "outputs": [],
   "source": [
    "pos_x_array = [] # vertical lines\n",
    "for i in range(count_with+1):\n",
    "    pos_x = offset_width + i*badge_width\n",
    "    pos_x_array.append(pos_x)\n",
    "    print(pos_x)\n",
    "pos_x_array"
   ]
  },
  {
   "cell_type": "code",
   "execution_count": null,
   "metadata": {},
   "outputs": [],
   "source": [
    "pos_y_array = [] # horrizontal lines\n",
    "for i in range(count_height+1):\n",
    "    pos_y = offset_heigth + i*bagde_height\n",
    "    pos_y_array.append(pos_y)\n",
    "    print(pos_y)"
   ]
  },
  {
   "cell_type": "code",
   "execution_count": null,
   "metadata": {},
   "outputs": [],
   "source": [
    "def get_hilfslinie_horrizontal(pos_x, pos_y, guide):\n",
    "    hilfslinie_horrizontal = (f'    <sodipodi:guide\\n'\n",
    "                            f'       position=\"{pos_x},{pos_y}\"\\n'\n",
    "                            f'       orientation=\"0,-1\"\\n'\n",
    "                            f'       id=\"guide{guide}\" />\\n')\n",
    "    return hilfslinie_horrizontal\n",
    "# print(get_hilfslinie_horrizontal(15, 0.0, 10))"
   ]
  },
  {
   "cell_type": "code",
   "execution_count": null,
   "metadata": {},
   "outputs": [],
   "source": [
    "def get_hilfslinie_vertical(pos_x, pos_y, guide):\n",
    "    hilfslinie_vertical = (f'    <sodipodi:guide\\n'\n",
    "                       f'       position=\"{pos_x},{pos_y}\"\\n'\n",
    "                       f'       orientation=\"1,0\"\\n'\n",
    "                       f'       id=\"guide{guide}\" />\\n')\n",
    "    return hilfslinie_vertical\n",
    "# print(get_hilfslinie_vertical(0.0, 15, 12))"
   ]
  },
  {
   "cell_type": "code",
   "execution_count": null,
   "metadata": {},
   "outputs": [],
   "source": [
    "def get_schnittmarken_horrizontal(pos_y, abst_x, first_vert, last_vert, pathID):\n",
    "    # print(first_vert, last_vert)\n",
    "    # print(last_vert - abst_x)\n",
    "    # print(paper_width - abst_x)\n",
    "    schnittmarke_horrizontal = (f'    <path\\n'\n",
    "       f'       style=\"fill:none;stroke:#000000;stroke-width:0.264583px;stroke-linecap:butt;stroke-linejoin:miter;stroke-opacity:1\"\\n'\n",
    "       f'       d=\"M {abst_x},{pos_y} H {first_vert - abst_x}\"\\n'\n",
    "       f'       id=\"path{pathID}\" />\\n')\n",
    "    schnittmarke_horrizontal = schnittmarke_horrizontal + (f'    <path\\n'\n",
    "       f'       style=\"fill:none;stroke:#000000;stroke-width:0.264583px;stroke-linecap:butt;stroke-linejoin:miter;stroke-opacity:1\"\\n'\n",
    "       f'       d=\"M {last_vert  + abst_x},{pos_y} H {paper_width -  abst_x}\"\\n'\n",
    "       f'       id=\"path{pathID + 1}\" />\\n')\n",
    "    return schnittmarke_horrizontal\n",
    "\n",
    "def get_schnittmarke_vertical(pos_x, abst_y, first_horr, last_horr, pathID):\n",
    "    # print(first_horr, last_horr)\n",
    "    # print(last_horr - abst_y)\n",
    "    # print(paper_height + abst_y)\n",
    "    schnittmarke_vertical = (f'    <path\\n'\n",
    "                   f'       style=\"fill:none;stroke:#000000;stroke-width:0.264583px;stroke-linecap:butt;stroke-linejoin:miter;stroke-opacity:1\"\\n'\n",
    "                   f'       d=\"M {pos_x},{abst_y} V {first_horr - abst_y}\"\\n'\n",
    "                   f'       id=\"path{pathID}\" />\\n')\n",
    "    schnittmarke_vertical = schnittmarke_vertical + (f'    <path\\n'\n",
    "                   f'       style=\"fill:none;stroke:#000000;stroke-width:0.264583px;stroke-linecap:butt;stroke-linejoin:miter;stroke-opacity:1\"\\n'\n",
    "                   f'       d=\"M  {pos_x},{last_horr + abst_y } V {paper_height - abst_y}\"\\n'\n",
    "                   f'       id=\"path{pathID+1}\" />\\n')\n",
    "    return schnittmarke_vertical\n",
    "    "
   ]
  },
  {
   "cell_type": "code",
   "execution_count": null,
   "metadata": {},
   "outputs": [],
   "source": [
    "\n",
    "\n",
    "hilftslinien = ''\n",
    "guide=10\n",
    "guide_count = 0\n",
    "for pos_x in pos_x_array:\n",
    "    hilftslinien = hilftslinien + get_hilfslinie_vertical(pos_x, 0.0, guide)\n",
    "    guide += 10\n",
    "    guide_count +=1\n",
    "\n",
    "for pos_y in pos_y_array:\n",
    "    hilftslinien = hilftslinien + get_hilfslinie_horrizontal(0.0,pos_y, guide)\n",
    "    guide += 10\n",
    "    guide_count +=1\n",
    "hilftslinien = hilftslinien + \"       </sodipodi:namedview>\\n\"\n",
    "print(hilftslinien)"
   ]
  },
  {
   "cell_type": "code",
   "execution_count": null,
   "metadata": {},
   "outputs": [],
   "source": [
    "schnittmarken=\"\"\n",
    "path_count = 0\n",
    "path = 10\n",
    "abst_y = 2.0\n",
    "abst_x=2.0\n",
    "for pos_x in pos_x_array:\n",
    "    schnittmarken = schnittmarken +  get_schnittmarke_vertical(pos_x, abst_y, pos_y_array[0], pos_y_array[-1], path)\n",
    "    path += 10\n",
    "    path_count +=1\n",
    "\n",
    "for pos_y in pos_y_array:\n",
    "    schnittmarken = schnittmarken + get_schnittmarken_horrizontal(pos_y, abst_x, pos_x_array[0], pos_x_array[-1], path)\n",
    "    path += 10\n",
    "    path_count +=1\n",
    "print(schnittmarken)"
   ]
  },
  {
   "cell_type": "markdown",
   "metadata": {},
   "source": [
    "### ToDo add schnittmarken to section \"\\<g>\" ... \"\\</g>\"\n",
    "\n",
    "#### Funktioniert nur mit o.g. default EmptyPage\n",
    "\n",
    "- '\\<g>' is part of section \"\\<svg>\"\n",
    "- \\<svg>\n",
    "  - \\<g>\n",
    "    - schnittmarken:\n",
    "    -     <path 1 - x>\n",
    "  - \\</g>\n",
    "- \\</svg>\n",
    "\n"
   ]
  },
  {
   "cell_type": "code",
   "execution_count": null,
   "metadata": {},
   "outputs": [],
   "source": []
  },
  {
   "cell_type": "markdown",
   "metadata": {},
   "source": [
    "### Ersetze Hilfslinien in svg"
   ]
  },
  {
   "cell_type": "code",
   "execution_count": null,
   "metadata": {},
   "outputs": [],
   "source": []
  },
  {
   "cell_type": "code",
   "execution_count": null,
   "metadata": {},
   "outputs": [],
   "source": [
    "# #################################\n",
    "# # # Use EmptyPage instead of file\n",
    "data = EmptyPage.split(\"\\n\")\n",
    "# ##################################\n"
   ]
  },
  {
   "cell_type": "code",
   "execution_count": null,
   "metadata": {},
   "outputs": [],
   "source": [
    "# type(data)"
   ]
  },
  {
   "cell_type": "code",
   "execution_count": null,
   "metadata": {},
   "outputs": [],
   "source": []
  },
  {
   "cell_type": "code",
   "execution_count": null,
   "metadata": {},
   "outputs": [],
   "source": [
    "\n",
    "for i, d in enumerate(data):\n",
    "    # print(i, d.strip())\n",
    "    data[i] = d.replace(\"\\n\", \"\")\n",
    "    # print(i, data[i])"
   ]
  },
  {
   "cell_type": "code",
   "execution_count": null,
   "metadata": {},
   "outputs": [],
   "source": [
    "start_line = \"<sodipodi:namedview\"\n",
    "# end_line = \"</sodipodi:namedview>\"\n",
    "start_index = None\n",
    "end_index = None\n",
    "start_found = False\n",
    "for i, line in enumerate(data):\n",
    "    if start_line in line:\n",
    "        start_index = i\n",
    "        # print(i, data[i])\n",
    "        start_found = True\n",
    "    \n",
    "    # if end_line in line:\n",
    "    #     # print(i, data[i])\n",
    "    #     end_index = i\n",
    "    #     break\n",
    "\n",
    "if end_index == None:\n",
    "    for i in range(start_index, len(data)):\n",
    "        # print(i, data[i])\n",
    "        if \"/>\" in data[i]:\n",
    "            # print(i, data[i])\n",
    "            end_index = i\n",
    "            data[i] = data[i].replace(\"/>\", \">\")\n",
    "            break\n",
    "start_index, end_index"
   ]
  },
  {
   "cell_type": "code",
   "execution_count": null,
   "metadata": {},
   "outputs": [],
   "source": [
    "# data"
   ]
  },
  {
   "cell_type": "code",
   "execution_count": null,
   "metadata": {},
   "outputs": [],
   "source": []
  },
  {
   "cell_type": "code",
   "execution_count": null,
   "metadata": {},
   "outputs": [],
   "source": [
    "# nur Hilfslinien einfügen in leeres \"EmptyPage\"\n",
    "for i, element in enumerate(hilftslinien.split(\"\\n\")):\n",
    "    # print(i+end_index+1, element)\n",
    "    data.insert(i+end_index+1, element)\n"
   ]
  },
  {
   "cell_type": "code",
   "execution_count": null,
   "metadata": {},
   "outputs": [],
   "source": [
    "# data"
   ]
  },
  {
   "cell_type": "code",
   "execution_count": null,
   "metadata": {},
   "outputs": [],
   "source": []
  },
  {
   "cell_type": "code",
   "execution_count": null,
   "metadata": {},
   "outputs": [],
   "source": [
    "start_line = \"<g\"\n",
    "start_index = None\n",
    "end_index = None\n",
    "start_found = False\n",
    "for i, line in enumerate(data):\n",
    "    # print(i, line)\n",
    "    if start_line in line:\n",
    "        start_index = i\n",
    "        print(i, data[i])\n",
    "        start_found = True\n",
    "        break\n",
    "        \n",
    "if end_index == None:\n",
    "    for i in range(start_index, len(data)):\n",
    "        print(i, data[i])\n",
    "        if \"/>\" in data[i]:\n",
    "            print(i, data[i])\n",
    "            end_index = i\n",
    "            # data[i] = data[i].replace(\"/>\", \">\")\n",
    "            break\n",
    "            \n",
    "start_index, end_index"
   ]
  },
  {
   "cell_type": "code",
   "execution_count": null,
   "metadata": {},
   "outputs": [],
   "source": [
    "# nur schnittmarken einfügen in leeres \"EmptyPage\"\n",
    "for i, element in enumerate(schnittmarken.split(\"\\n\")):\n",
    "    # print(i+end_index+1, element)\n",
    "    data.insert(i+end_index+1, element)\n",
    "# data"
   ]
  },
  {
   "cell_type": "code",
   "execution_count": null,
   "metadata": {},
   "outputs": [],
   "source": [
    "# list.insert(i, elem)"
   ]
  },
  {
   "cell_type": "code",
   "execution_count": null,
   "metadata": {},
   "outputs": [],
   "source": [
    "# for i in reversed(range(start_index, end_index+1)):\n",
    "\n",
    "# tamplate_dateiname='Template.svg'\n",
    "tamplate_dateiname=tamplate_dateiname.replace(\".svg\", f\"_({badge_width}-{bagde_height}).svg\")\n",
    "tamplate_dateiname"
   ]
  },
  {
   "cell_type": "markdown",
   "metadata": {},
   "source": [
    "# Erstelle Template mit eingestellten Parametern"
   ]
  },
  {
   "cell_type": "code",
   "execution_count": null,
   "metadata": {},
   "outputs": [],
   "source": [
    "with open(tamplate_dateiname, 'w') as f:\n",
    "    for line in data:\n",
    "        f.write(f\"{line}\\n\")"
   ]
  },
  {
   "cell_type": "code",
   "execution_count": null,
   "metadata": {},
   "outputs": [],
   "source": []
  },
  {
   "cell_type": "code",
   "execution_count": null,
   "metadata": {},
   "outputs": [],
   "source": []
  }
 ],
 "metadata": {
  "kernelspec": {
   "display_name": "Python 3 (ipykernel)",
   "language": "python",
   "name": "python3"
  },
  "language_info": {
   "codemirror_mode": {
    "name": "ipython",
    "version": 3
   },
   "file_extension": ".py",
   "mimetype": "text/x-python",
   "name": "python",
   "nbconvert_exporter": "python",
   "pygments_lexer": "ipython3",
   "version": "3.10.6"
  }
 },
 "nbformat": 4,
 "nbformat_minor": 4
}
