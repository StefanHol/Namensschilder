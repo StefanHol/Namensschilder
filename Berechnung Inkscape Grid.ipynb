{
 "cells": [
  {
   "cell_type": "markdown",
   "metadata": {},
   "source": [
    "# Inkscape Template mit Schnittmarken erstellen"
   ]
  },
  {
   "cell_type": "markdown",
   "metadata": {},
   "source": [
    "**Papier größe muss zur Vorlage ist 'A4'**"
   ]
  },
  {
   "cell_type": "markdown",
   "metadata": {},
   "source": [
    "## Import"
   ]
  },
  {
   "cell_type": "code",
   "execution_count": 1,
   "metadata": {},
   "outputs": [],
   "source": [
    "from calc_incskape_badge_grid import calc_incskape_badge_grid as calc_grid_svg"
   ]
  },
  {
   "cell_type": "markdown",
   "metadata": {},
   "source": [
    " **Badge größe angeben**\n",
    " \n",
    "Diese wird auf in x und y auf dem Blatt verteilt.\n",
    "\n",
    "Hier ist ein Beispiel mit den default Einstellungen."
   ]
  },
  {
   "cell_type": "code",
   "execution_count": 2,
   "metadata": {},
   "outputs": [],
   "source": [
    "badge_width = 87\n",
    "bagde_height = 54"
   ]
  },
  {
   "cell_type": "code",
   "execution_count": 3,
   "metadata": {},
   "outputs": [],
   "source": [
    "# Badgegröße wird noch an den Dateinamen angehängt.\n",
    "# 'Template.svg' => 'Template_(87-54).svg'\n",
    "file_name_tamplate = \"Template.svg\""
   ]
  },
  {
   "cell_type": "markdown",
   "metadata": {},
   "source": [
    "# Vorlage vorbereiten\n",
    "\n",
    "Hier werden default Werte s.o. übergeben."
   ]
  },
  {
   "cell_type": "code",
   "execution_count": 4,
   "metadata": {},
   "outputs": [
    {
     "name": "stdout",
     "output_type": "stream",
     "text": [
      "Target filename: 'Template_(87-54).svg'\n"
     ]
    }
   ],
   "source": [
    "# Hier werde default Werte s.o. übergeben.\n",
    "cg = calc_grid_svg(badge_width=badge_width, \n",
    "        bagde_height=bagde_height, \n",
    "        tamplate_file_name=file_name_tamplate)\n",
    "cg.main()"
   ]
  },
  {
   "cell_type": "markdown",
   "metadata": {},
   "source": [
    "# Schreibe Incskape Datei mit Schnittmarken und Hilfslinien\n",
    "\n",
    "- Wenn an die Funktion `write_svg_data()` nichts übergeben wird, dann wird die Badgegröße in den Dateinamen angehängt.\n",
    "    - z.B.: 'Template.svg' => 'Template_(87-54).svg'\n"
   ]
  },
  {
   "cell_type": "code",
   "execution_count": 5,
   "metadata": {},
   "outputs": [
    {
     "name": "stdout",
     "output_type": "stream",
     "text": [
      "Write new data to: Template_(87-54).svg\n"
     ]
    }
   ],
   "source": [
    "cg.write_svg_data()"
   ]
  },
  {
   "cell_type": "code",
   "execution_count": null,
   "metadata": {},
   "outputs": [],
   "source": []
  }
 ],
 "metadata": {
  "kernelspec": {
   "display_name": "Python 3 (ipykernel)",
   "language": "python",
   "name": "python3"
  },
  "language_info": {
   "codemirror_mode": {
    "name": "ipython",
    "version": 3
   },
   "file_extension": ".py",
   "mimetype": "text/x-python",
   "name": "python",
   "nbconvert_exporter": "python",
   "pygments_lexer": "ipython3",
   "version": "3.10.6"
  }
 },
 "nbformat": 4,
 "nbformat_minor": 4
}
